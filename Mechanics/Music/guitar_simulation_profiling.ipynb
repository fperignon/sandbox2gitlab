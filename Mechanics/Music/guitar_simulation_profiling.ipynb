{
 "cells": [
  {
   "cell_type": "markdown",
   "metadata": {},
   "source": [
    "# Bass guitar simulation using siconos"
   ]
  },
  {
   "cell_type": "markdown",
   "metadata": {},
   "source": [
    "## Jupyter notebooks reminder\n",
    "\n",
    "A notebook is a sequence of \"cells\" that can be executed.\n",
    "\n",
    "\n",
    "Each cell can handle either python code or markdown for comments.\n",
    "\n",
    "* Edit a cell : Enter\n",
    "* Execute a cell: Shift + Enter\n",
    "* Run all cells : kernel menu (top of the page) --> Run all\n",
    "* Delete cell : DD\n",
    "* Add cell : Ctrl-mb\n",
    "* Shortcuts reminder : Ctrl-m h\n",
    "* List all magic commands : %lsmagic\n",
    "\n",
    "More :  https://jupyter-notebook-beginner-guide.readthedocs.io/en/latest/what_is_jupyter.html#references\n",
    "\n",
    "Warning : cells can be executed in any order but results and variables are persistent (until a call to %reset or kernel->restart)\n"
   ]
  },
  {
   "cell_type": "markdown",
   "metadata": {},
   "source": [
    "## Debug/test mode only\n",
    "\n",
    "Execute the cell below only during debug/profile phase"
   ]
  },
  {
   "cell_type": "code",
   "execution_count": 1,
   "metadata": {},
   "outputs": [],
   "source": [
    "# Load profiler    \n",
    "%load_ext line_profiler\n",
    "# Reload automatically all python modules before each cell exec\n",
    "%load_ext autoreload\n",
    "%autoreload 2"
   ]
  },
  {
   "cell_type": "markdown",
   "metadata": {},
   "source": [
    "## Load siconos and guitar packages"
   ]
  },
  {
   "cell_type": "code",
   "execution_count": 2,
   "metadata": {},
   "outputs": [],
   "source": [
    "# standard python packages\n",
    "import sys\n",
    "import time\n",
    "import os\n",
    "# guitar package\n",
    "from guitar import StringDS, Fret, Guitar\n",
    "from model_tools import build_frets_from_file, save_simu_to_hdf5\n",
    "\n",
    "# Guitar pre-defined setups\n",
    "import parameters\n",
    "\n",
    "# siconos package\n",
    "import siconos.kernel as sk\n",
    "\n",
    "# python packages for vectors/matrices operations\n",
    "import numpy as np\n",
    "import scipy.io\n",
    "# python plots\n",
    "import matplotlib.pyplot as plt\n",
    "%matplotlib inline"
   ]
  },
  {
   "cell_type": "markdown",
   "metadata": {},
   "source": [
    "## Create a 'guitar' model\n",
    "\n",
    "Build dynamical systems, interactions, simulation ...\n",
    "   \n",
    "\n",
    "Parameters: \n",
    "\n",
    "* number_of_modes :  spatial discretisation\n",
    "* max_coords : coordinates of the shifted point at t0\n",
    "* fe : sampling freq\n",
    "* final_time : ...\n",
    "* frets_file : input file (matlab) to set frets positions on the neck\n",
    "* filt_frets : true set interactions only on frets. If false, set contact at each dof on the neck.\n",
    "* enable_frets_output : if true, save interactions data at each time step.\n",
    "\n",
    "\n",
    "### Select case :\n",
    "\n",
    "comment/uncomment lines below"
   ]
  },
  {
   "cell_type": "code",
   "execution_count": 3,
   "metadata": {},
   "outputs": [],
   "source": [
    "# One string, one contact\n",
    "# case = 'one_contact'\n",
    "# 'standard' bass : one string, 20 frets\n",
    "case = 'bass'\n",
    "# Fretless bass\n",
    "#case = 'fretless'\n",
    "\n",
    "# Activate (or not) contacts\n",
    "with_contacts = True"
   ]
  },
  {
   "cell_type": "code",
   "execution_count": 4,
   "metadata": {},
   "outputs": [],
   "source": [
    "if case == 'bass':\n",
    "        \n",
    "    run_case = parameters.bass_guitar\n",
    "\n",
    "elif case == 'fretless':\n",
    "    \n",
    "    run_case = parameters.fretless_bass_guitar\n",
    "\n",
    "elif case == 'one_contact':\n",
    "\n",
    "    run_case = parameters.one_contact\n",
    "\n",
    "# set or overload parameters value\n",
    "matlab_input = run_case['matlab_input']\n",
    "number_of_modes = run_case['nb_modes']\n",
    "max_coords = run_case['max_coords']\n",
    "filt_frets = run_case['filt_frets']\n",
    "G_string = {\n",
    "    'length': run_case['length']\n",
    "    # diameter = equivalent diameter (A5)\n",
    "    #'diameter': 1.14e-3,\n",
    "    #'density': 6.69e-3,\n",
    "    #'B': 3.5e-5,\n",
    "    #'tension': 191.6,\n",
    "    }\n",
    "\n",
    "output_name = run_case['output_name']\n",
    "\n",
    "restit = 0.9\n",
    "\n",
    "output_name += str(restit)\n",
    "\n",
    "initial_time = 0.\n",
    "final_time = 0.1\n",
    "visu = True # plot frets/neck \n",
    "\n",
    "fs = 15680. #1003520\n",
    "output_freq = 64\n",
    "\n",
    "\n",
    "# -- The dynamical system --\n",
    "string = StringDS(number_of_modes, geometry_and_material=G_string,\n",
    "                  max_coords=max_coords,\n",
    "                  matlab_input=matlab_input)\n",
    "\n",
    "\n",
    "x = [1, 0, 0]    # initial position\n",
    "v = [0, 0, 0]    # initial velocity\n",
    "mass = np.eye(3)  # mass matrix\n",
    "mass[2, 2] = 2. / 5 \n",
    "mv = [1., 1., 1.]\n",
    "#\n",
    "string = sk.LagrangianLinearDiagonalDS(x,v, mv, mv, mv)"
   ]
  },
  {
   "cell_type": "code",
   "execution_count": 7,
   "metadata": {},
   "outputs": [
    {
     "data": {
      "text/plain": [
       "array([ 1.,  1.,  1.])"
      ]
     },
     "execution_count": 7,
     "metadata": {},
     "output_type": "execute_result"
    }
   ],
   "source": [
    "string.damping()"
   ]
  },
  {
   "cell_type": "code",
   "execution_count": null,
   "metadata": {},
   "outputs": [],
   "source": [
    "# -- Contacts/interactions --\n",
    "current_path = './'\n",
    "if with_contacts:\n",
    "    frets_file = os.path.join(current_path, matlab_input) + '_h.mat'\n",
    "    interactions = build_frets_from_file(string, restit, frets_file, filt_frets, visu)\n",
    "\n",
    "    frets = list(interactions.keys())\n",
    "    nb_frets = len(frets)\n",
    "else:\n",
    "\n",
    "    interactions = {None : string}\n",
    "    frets = []\n",
    "    nb_frets = len(frets)"
   ]
  },
  {
   "cell_type": "code",
   "execution_count": null,
   "metadata": {},
   "outputs": [],
   "source": [
    "nsds = sk.NonSmoothDynamicalSystem(initial_time, final_time)\n",
    "nsds.insertDynamicalSystem(string)\n",
    "#nsds.link(frets[0],string )"
   ]
  },
  {
   "cell_type": "code",
   "execution_count": null,
   "metadata": {},
   "outputs": [],
   "source": [
    "#moreau_bilbao = sk.MoreauJeanBilbaoOSI()\n",
    "moreau_jean = sk.MoreauJeanOSI(0.5)\n",
    "\n",
    "\n",
    "t = sk.TimeDiscretisation(initial_time, 1./fs)\n",
    "osnspb = sk.LCP()\n",
    "simulation = sk.TimeStepping(nsds, t, moreau_jean, osnspb)"
   ]
  },
  {
   "cell_type": "code",
   "execution_count": null,
   "metadata": {},
   "outputs": [],
   "source": [
    "simulation.computeOneStep()"
   ]
  },
  {
   "cell_type": "code",
   "execution_count": null,
   "metadata": {},
   "outputs": [],
   "source": [
    "guitar_model = Guitar(interactions, [initial_time, final_time],\n",
    "                      fs, output_freq, interactions_output=2,\n",
    "                         default_integrator='MoreauJean') # 2 to save y and lambda\n",
    "# Save initial state\n",
    "guitar_model.time[0] = initial_time\n",
    "guitar_model.save_ds_state_modal(0, string)\n",
    "\n",
    "buff = guitar_model.data_interactions\n",
    "for i in range(nb_frets):\n",
    "    buff[frets[i]][0][0] = frets[i].y(0) \n",
    "    buff[frets[i]][1][0] = frets[i].lambda_(1) \n",
    "\n",
    "# Get simulation object\n",
    "simu = guitar_model.simulation\n",
    "osns = guitar_model.osnspb\n",
    "osi = guitar_model.default_integrator\n",
    "print('Ready to start simulation for frequency {0}.'.format(fs))\n",
    "print('Save output every {0} time steps.'.format(output_freq))\n",
    "msg = 'Read data from files :\\n'\n",
    "msg += '- neck profile:' + frets_file\n",
    "msg += '\\n- eigenfrequencies: ' + matlab_input + '_frequs.mat\\n'\n",
    "msg += '- damping: ' + matlab_input + '_amortissements.mat\\n'\n",
    "print(msg)\n"
   ]
  },
  {
   "cell_type": "markdown",
   "metadata": {},
   "source": [
    "res = np.sqrt(guitar_string.stiffness()) / (2. *np.pi)\n",
    "sig = guitar_string.damping() * 0.5\n",
    "res.shape\n",
    "q0 = np.dot(guitar_string.s_mat,guitar_string.q0())\n",
    "res.shape\n",
    "x = np.linspace(0, guitar_string.length, n_modes+2)[1:-1]\n",
    "frequencies[-1], res[-1]\n",
    "damp2 = guitar_string.compute_damping(res)\n",
    "u0 = guitar_string._compute_initial_state_std(max_coords=(7.8e-3, .64))\n",
    "#plt.plot(x, u0)\n",
    "#plt.xlim(0,3*guitar_string.space_step)\n",
    "#plt.ylim(0,0.00004)\n",
    "damp2[0:5], sig[0:5]\n",
    "plt.plot(x, amort, x, sig,'--')\n",
    "#plt.xlim(0,100)\n",
    "#plt.ylim(0,1.3)\n",
    "print(amort.shape)"
   ]
  },
  {
   "cell_type": "code",
   "execution_count": null,
   "metadata": {},
   "outputs": [],
   "source": []
  },
  {
   "cell_type": "markdown",
   "metadata": {},
   "source": [
    "## Run simulation"
   ]
  },
  {
   "cell_type": "code",
   "execution_count": null,
   "metadata": {},
   "outputs": [],
   "source": [
    "def one_step(k, pos, start_time):\n",
    "    simu.initialize()\n",
    "    \n",
    "    if k % 100000 == 0:\n",
    "        print('step = ', k, '---- time = ',\n",
    "              simu.nextTime(),\n",
    "              '------- duration = ', time.clock() - start_time, '-------------')\n",
    "    # - advanceToEvent() - TimeStepping.cpp\n",
    "    simu.resetLambdas()\n",
    "    # -- newtonSolve -- TimeStepping.cpp\n",
    "    # --- simu.initializeNewtonLoop() --- TimeStepping.cpp\n",
    "    # skip # tkp1 = simu.getTkp1()\n",
    "    # skip #   guitar_model.default_integrator.computeInitialNewtonState()\n",
    "    # skip #   guitar_model.default_integrator.computeResidu()\n",
    "    #simu.updateInteractions()\n",
    "    #simu.updateWorldFromDS()\n",
    "    #if simu.indexSet(0).size()>0:\n",
    "    guitar_model.default_integrator.updateOutput(simu.nextTime())\n",
    "    guitar_model.default_integrator.updateInput(simu.nextTime())\n",
    "    # skip # guitar_string.updatePlugins(tkp1)\n",
    "    # skip # guitar_model.default_integrator.computeResidu()\n",
    "    # --- --- end of initializeNewtonLoop\n",
    "    # skip # simu.prepareNewtonIteration()\n",
    "    simu.computeFreeState()\n",
    "    # --- ComputeOneStepNSProblem --- Simulation.cpp\n",
    "    #if simu.nonSmoothDynamicalSystem().topology().hasChanged():\n",
    "    osns.setHasBeenUpdated(False)\n",
    "    # ---- osnsob.compute() ---- LCP.cpp\n",
    "    #cont = precompute(simu.nextTime())\n",
    "    \n",
    "    sindex = sk.size_graph(simu.indexSet(osns.indexSetLevel()))\n",
    "    #if sindex > 0:\n",
    "    #    print(\"I1 size/ iteration number\", sindex, k)\n",
    "    res = False\n",
    "    if sindex != 0:    \n",
    "        #up2date = osns.hasBeenUpdated()\n",
    "        #if not up2date:\n",
    "        osns.updateInteractionBlocks()\n",
    "        osns.updateOperators()\n",
    "        res = True\n",
    "        osns.computeq(time)\n",
    "    #osns.displayBlocks(simu.indexSet(1))\n",
    "    # osns.computeq(simu.nextTime())\n",
    "    info = 0\n",
    "    if res:\n",
    "        if osns.getSizeOutput() != 0:\n",
    "            info = osns.numericsCompute()\n",
    "            osns.postCompute()\n",
    "    # ---- ---- end of compute\n",
    "    # --- --- end of computeOneStepNSProblem\n",
    "    #simu.computeOneStepNSProblem(sk.SICONOS_OSNSP_TS_VELOCITY)\n",
    "    simu.DefaultCheckSolverOutput(info)\n",
    "    # --- update --- Simulation.hpp\n",
    "    simu.updateInput()\n",
    "    simu.updateState()\n",
    "    simu.updateOutput()\n",
    "    # --- --- end of update\n",
    "    simu.saveYandLambdaInOldVariables()\n",
    "    # -- -- end of newtonSolve\n",
    "    # - - end of advanceToEvent\n",
    "    # -- save data every output_freq time step --\n",
    "    if k % guitar_model.output_freq == 0:\n",
    "        # current time\n",
    "        guitar_model.time[pos] = simu.nextTime()\n",
    "        # modal positions\n",
    "        guitar_model.save_ds_state_modal(pos, string)\n",
    "        \n",
    "        # interactions\n",
    "        if guitar_model.save_interactions:\n",
    "            buff = guitar_model.data_interactions\n",
    "            for i in range(nb_frets):\n",
    "                buff[frets[i]][0][pos] = frets[i].y(0) \n",
    "                buff[frets[i]][1][pos] = frets[i].lambda_(1) \n",
    "                #buff[frets[i]][2][pos = frets[i].y(1) \n",
    "\n",
    "        pos += 1\n",
    "    k += 1\n",
    "    simu.nextStep()\n",
    "    return k, pos\n",
    "\n",
    "def run():\n",
    "    k = 1\n",
    "    pos = 1\n",
    "    #while k < 500:\n",
    "    #while simu.nextTime() < 1.:\n",
    "    start_time = time.clock() \n",
    "    while simu.hasNextEvent():\n",
    "        k, pos = one_step(k, pos, start_time)\n",
    "\n"
   ]
  },
  {
   "cell_type": "code",
   "execution_count": null,
   "metadata": {},
   "outputs": [],
   "source": [
    "osi.iteration_matrix(string)"
   ]
  },
  {
   "cell_type": "code",
   "execution_count": null,
   "metadata": {},
   "outputs": [],
   "source": [
    "one_step(1, 1, time.clock())"
   ]
  },
  {
   "cell_type": "code",
   "execution_count": null,
   "metadata": {},
   "outputs": [],
   "source": [
    "%lprun -f  one_step run()"
   ]
  },
  {
   "cell_type": "markdown",
   "metadata": {},
   "source": [
    "#  Post-treatment"
   ]
  },
  {
   "cell_type": "markdown",
   "metadata": {},
   "source": [
    "## Save data to hdf file"
   ]
  },
  {
   "cell_type": "code",
   "execution_count": null,
   "metadata": {},
   "outputs": [],
   "source": [
    "guitar_model.convert_modal_output(string)"
   ]
  },
  {
   "cell_type": "code",
   "execution_count": null,
   "metadata": {},
   "outputs": [],
   "source": [
    "save_simu_to_hdf5(guitar_model, string, matlab_data=matlab_input, filename='./tmp.h5', filt_frets=filt_frets, restit=restit)"
   ]
  },
  {
   "cell_type": "markdown",
   "metadata": {},
   "source": [
    "## Plot trajectories\n",
    "Use plotTraj(dynamical_system, list of dof to be plotted)\n",
    "\n",
    "If list of dof is not set, all dof will be plotted.\n",
    "\n",
    "Result = dof as a function of time +  zoom specific ranges (as in the paper)\n",
    "\n",
    "To save the resulting figure(s), add argument filename when calling plotTraj\n",
    "\n",
    "Arg 'iplot' is used to change figure number. Set same iplot if you want to plot all curves on the same figure.\n",
    "Default iplot=0."
   ]
  },
  {
   "cell_type": "code",
   "execution_count": null,
   "metadata": {},
   "outputs": [],
   "source": [
    "# Plot dof 10 and 50\n",
    "guitar_model.plot_traj(guitar_string, dof=[ipos], iplot=0)\n",
    "# Plot all dof\n",
    "#guitar_model.plot_traj(guitar_string, iplot=1)\n",
    "# Plot dof 55 and save result in displacements_55.pdf\n",
    "#guitar_model.plot_traj(guitar_string, dof=[55], filename='displacements_55.pdf', iplot=2)"
   ]
  },
  {
   "cell_type": "markdown",
   "metadata": {},
   "source": [
    "## Plot modes\n",
    "\n",
    "Use guitar_model.plot_modes(guitar_string,plot_shape)\n",
    "\n",
    "plot_shape = (x,y) where x,y is the resolution of the grid of plots.\n",
    "\n",
    "Example: \n",
    "plot_modes(guitar_string, (4,2)) : splits time range in 8 and plots dof=f(x) for those 8 time instants on 8 figures\n",
    "\n",
    "\n",
    "Set filename arg to save resulting figure in a file."
   ]
  },
  {
   "cell_type": "code",
   "execution_count": null,
   "metadata": {},
   "outputs": [],
   "source": [
    "# Plot 10 figures on two columns, for 10 time instants\n",
    "guitar_model.plot_modes(guitar_string,plot_shape=[5,2], iplot=0)\n",
    "# Same thing but save output in modes.pdf\n",
    "#guitar_model.plot_modes(guitar_string,plot_shape=[5,3], filename='modes.pdf', iplot=1)\n",
    "# plot modes for time[12] and time[5000] on one column\n",
    "#guitar_model.plot_modes(guitar_string, times =[12, 1200], plot_shape=(2,1), filename='modes2.pdf', iplot=2)"
   ]
  },
  {
   "cell_type": "markdown",
   "metadata": {},
   "source": [
    "## Create a movie mode=f(time)"
   ]
  },
  {
   "cell_type": "code",
   "execution_count": null,
   "metadata": {},
   "outputs": [],
   "source": [
    "guitar_model.make_movie(guitar_string,'fretless.mp4')"
   ]
  },
  {
   "cell_type": "markdown",
   "metadata": {},
   "source": [
    "<video controls src=\"fretless.mp4\" />\n",
    "#%%html\n",
    "#<video width=\"320\" height=\"240\" controls>\n",
    "#  <source src=\"./fretless.mp4\" type=\"video/mp4\">\n",
    "#</video>"
   ]
  },
  {
   "cell_type": "markdown",
   "metadata": {},
   "source": [
    "## Plot contactogram\n",
    "\n",
    "    !! Works only if enable_interactions_output=True in model (guitar_model) constructor"
   ]
  },
  {
   "cell_type": "code",
   "execution_count": null,
   "metadata": {},
   "outputs": [],
   "source": [
    "guitar_model.contactogram(guitar_string)"
   ]
  },
  {
   "cell_type": "code",
   "execution_count": null,
   "metadata": {},
   "outputs": [],
   "source": [
    "v1 = np.arange(3)\n",
    "v2 = np.arange(3,8)\n",
    "vref = np.arange(8)\n",
    "v3 = sk.BlockVector(v1, v2)\n",
    "v4 = np.ones(vref.size)\n",
    "print(v2)"
   ]
  },
  {
   "cell_type": "code",
   "execution_count": null,
   "metadata": {},
   "outputs": [],
   "source": [
    "np.dot(v4, vref)"
   ]
  },
  {
   "cell_type": "code",
   "execution_count": null,
   "metadata": {},
   "outputs": [],
   "source": [
    "v5 = sk.SiconosVector(4)"
   ]
  },
  {
   "cell_type": "code",
   "execution_count": null,
   "metadata": {},
   "outputs": [],
   "source": [
    "1+1"
   ]
  },
  {
   "cell_type": "raw",
   "metadata": {},
   "source": [
    "vref"
   ]
  }
 ],
 "metadata": {
  "kernelspec": {
   "display_name": "Python 3",
   "language": "python",
   "name": "python3"
  },
  "language_info": {
   "codemirror_mode": {
    "name": "ipython",
    "version": 3
   },
   "file_extension": ".py",
   "mimetype": "text/x-python",
   "name": "python",
   "nbconvert_exporter": "python",
   "pygments_lexer": "ipython3",
   "version": "3.6.5"
  }
 },
 "nbformat": 4,
 "nbformat_minor": 2
}
