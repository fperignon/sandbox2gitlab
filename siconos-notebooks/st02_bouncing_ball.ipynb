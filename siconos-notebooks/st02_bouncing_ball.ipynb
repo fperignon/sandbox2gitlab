{
 "cells": [
  {
   "cell_type": "markdown",
   "metadata": {},
   "source": [
    "# Siconos software demo and tutorial\n",
    "\n",
    "## Tutorial 2 : a ball bouncing on the ground"
   ]
  },
  {
   "cell_type": "markdown",
   "metadata": {},
   "source": [
    "### Serious examples for the future"
   ]
  },
  {
   "cell_type": "code",
   "execution_count": null,
   "metadata": {
    "collapsed": true
   },
   "outputs": [],
   "source": [
    "%%HTML\n",
    "<iframe width=\"560\" height=\"315\" src=\"https://www.youtube.com/embed/imdN64OBHfE\" frameborder=\"0\" gesture=\"media\" allow=\"encrypted-media\" allowfullscreen></iframe>\n",
    "<iframe width=\"560\" height=\"315\" src=\"https://www.youtube.com/embed/dBoDwr4k4_o\" frameborder=\"0\" gesture=\"media\" allow=\"encrypted-media\" allowfullscreen></iframe>"
   ]
  },
  {
   "cell_type": "markdown",
   "metadata": {},
   "source": [
    "## Prerequisites\n",
    "\n",
    "\n",
    "### Jupyter notebooks reminder\n",
    "\n",
    "A notebook is a sequence of \"cells\" that can be executed.\n",
    "\n",
    "\n",
    "Each cell can handle either python code or markdown for comments.\n",
    "\n",
    "* Edit a cell : Enter\n",
    "* Execute a cell: Shift + Enter\n",
    "* Run all cells : kernel menu (top of the page) --> Run all\n",
    "* Delete cell : DD\n",
    "* Add cell : Ctrl-mb\n",
    "* Shortcuts reminder : Ctrl-m h\n",
    "* List all magic commands : %lsmagic\n",
    "\n",
    "More :  https://jupyter-notebook-beginner-guide.readthedocs.io/en/latest/what_is_jupyter.html#references\n",
    "\n",
    "Warning : cells can be executed in any order but results and variables are persistent (until a call to %reset or kernel->restart)\n",
    "\n",
    "\n"
   ]
  },
  {
   "cell_type": "markdown",
   "metadata": {},
   "source": [
    "### Import siconos components\n",
    "you may need to set PYTHONPATH or sys.path if siconos python packages are not in standard places.\n",
    "\n"
   ]
  },
  {
   "cell_type": "code",
   "execution_count": null,
   "metadata": {
    "collapsed": true
   },
   "outputs": [],
   "source": [
    "import sys\n",
    "# Update the following line depending on your siconos python installation.\n",
    "#sys.path.append(\"/usr/local/lib/python3.5/site-packages/\")\n",
    "#sys.path.append(\"~/Library/Python/3.5/lib/python3.5/site-packages/\")\n",
    "sys.path.append(\"/usr/local/lib/python2.7/site-packages/\")"
   ]
  },
  {
   "cell_type": "code",
   "execution_count": null,
   "metadata": {
    "collapsed": true
   },
   "outputs": [],
   "source": [
    "# Main interface to siconos functionnalities : \n",
    "# non smooth model description, simulation setup ...\n",
    "import siconos.kernel as sk    \n",
    "\n",
    "# \"Low-level\" nonsmooth solvers\n",
    "import siconos.numerics as sn\n",
    "\n",
    "# Python package for scientific computing\n",
    "import numpy as np"
   ]
  },
  {
   "cell_type": "markdown",
   "metadata": {},
   "source": [
    "# I - Modeling : NonSmooth Dynamical Systems (NSDS) definition \n",
    "--> Dynamical systems, constraints, nonsmooth laws ..."
   ]
  },
  {
   "cell_type": "markdown",
   "metadata": {},
   "source": [
    "## The dynamical system"
   ]
  },
  {
   "cell_type": "markdown",
   "metadata": {},
   "source": [
    "Consider the following example, a ball bouncing on the ground.\n",
    "As described in the figure below, we consider a ball of mass m and radius R, described by 3 generalized coordinates q=(z,x,θ).The ball is subjected to the gravity g. The system is also constituted by a rigid plane, defined by its position with respect to the axis Oz. We assume that the position of the plane is fixed."
   ]
  },
  {
   "cell_type": "markdown",
   "metadata": {
    "collapsed": true
   },
   "source": [
    "![BouncingBall](../figures/BouncingBall.png \"BouncingBall\")"
   ]
  },
  {
   "cell_type": "markdown",
   "metadata": {},
   "source": [
    "The equation of motion of the ball is given by\n",
    "\n",
    "$$\n",
    "   \\dot q = v \\\\\n",
    "   M\\dot v = F_{ext}(t) + p\\\\\n",
    "   with \\ \\ M=\\left[\\begin{array}{ccc}\n",
    "   m &0 &0 \\\\\n",
    "   0 & m & 0 \\\\\n",
    "   0 & 0 & I\n",
    "   \\end{array}\\right] \\ \\ , \\ \\ I = \\frac{2}{5}mR^2 \\ \\ and \\ \\ F_{ext} = \\left[\\begin{array}{c}\n",
    "   -m g \\\\\n",
    "   0  \\\\\n",
    "   0\n",
    "   \\end{array}\\right]\n",
    "$$\n",
    "with\n",
    "\n",
    "* M the inertia term, a $n\\times{}n$ matrix.\n",
    "* p the force due to the non-smooth law, ie the reaction at impact. \n",
    "* $F_{ext}(t)  \\mathcal R \\mapsto \\mathcal R^{n}$ the given external force.\n",
    "\n",
    "we get a second-order Lagrangian linear system defined in Siconos with **LagrangianLinearTIDS**:"
   ]
  },
  {
   "cell_type": "code",
   "execution_count": null,
   "metadata": {
    "collapsed": true
   },
   "outputs": [],
   "source": [
    "# -- Set dynamical system parameters --\n",
    "x = [1, 0, 0]    # initial position\n",
    "v = [0, 0, 0]    # initial velocity\n",
    "radius = 0.1\n",
    "m = 1.\n",
    "g = 9.81\n",
    "mass = np.eye(3)  # mass matrix\n",
    "mass[2, 2] = 2. / 5 * radius * radius\n",
    "# -- Build the dynamical system --\n",
    "ball = sk.LagrangianLinearTIDS(x, v, mass)\n",
    "# -- Set external forces --\n",
    "weight = [-m * g, 0, 0]\n",
    "ball.setFExtPtr(weight)"
   ]
  },
  {
   "cell_type": "markdown",
   "metadata": {},
   "source": [
    "*Remark: when specific functions are needed for external forces, a new class, deriving from LagrangianLinearTIDS can be created*\n",
    "*Consider the following example:*"
   ]
  },
  {
   "cell_type": "code",
   "execution_count": null,
   "metadata": {
    "collapsed": true
   },
   "outputs": [],
   "source": [
    "# definition of a new class of dynamical systems, which inherits from linear lagrangian:\n",
    "class MyDynamicalSystem(sk.LagrangianLinearTIDS):\n",
    "    \n",
    "    def computeFext(self, time):\n",
    "        print('compute external forces ...')\n",
    "        self.setFExtPtr([np.sin(time), np.cos(time), time **2])\n",
    "        return [np.sin(time), np.cos(time), time **2]\n",
    "\n",
    "# and create a new instance:\n",
    "another_ball = MyDynamicalSystem(x, v, mass)\n",
    "another_ball.computeFext(0.1)\n"
   ]
  },
  {
   "cell_type": "markdown",
   "metadata": {},
   "source": [
    "To get more details on this (or any other) class of DS, try:\n",
    "\n",
    "help(classname)"
   ]
  },
  {
   "cell_type": "code",
   "execution_count": null,
   "metadata": {
    "collapsed": true,
    "scrolled": false
   },
   "outputs": [],
   "source": [
    "#help(MyDynamicalSystem)\n"
   ]
  },
  {
   "cell_type": "markdown",
   "metadata": {},
   "source": [
    "## Nonsmooth laws and constraints : the interaction(s) between dynamical systems\n",
    "\n",
    "Now, the nonsmooth part of the system must be defined, namely what are the nonsmooth laws and constraints between the variables. In Siconos, the definition of a nonsmooth law and a relation between one or two dynamical systems is called an Interaction (see Interactions between dynamical systems). Thus, the definition of a set of dynamical systems and of interactions between them will lead to the complete nonsmooth dynamical system.\n",
    "\n",
    "Clearly, the constraint here must state that the ball must stay above the ground, and when it hits the ground, a reaction force appears. Thus, as a local variables of the Interaction, we introduce $y$ as the distance between the ball and the floor and $\\lambda$ as the multiplier that corresponds to the reaction at contact.\n",
    "The constraint writes:\n",
    "\n",
    "$$y(t) = q(t) - R - ground\\_position$$\n",
    "\n",
    "in Siconos, this corresponds to a **LagrangianLinearTIR** (TIR stands for time-invariant relation), written as\n",
    "\n",
    "$$\n",
    "\\begin{array}{ccc}\n",
    "y &=& Hq + b\\\\\n",
    "p &=& H^t \\lambda\n",
    "\\end{array}, \\ \\ \\ \\ H = [1 \\ 0 \\ 0], b = [ground\\_position]\n",
    "$$"
   ]
  },
  {
   "cell_type": "code",
   "execution_count": null,
   "metadata": {
    "collapsed": true
   },
   "outputs": [],
   "source": [
    "# ball-floor\n",
    "H = np.zeros((1, 3))\n",
    "H[0, 0] = 1.\n",
    "# b = ground position\n",
    "ground_position = [0.5]\n",
    "relation = sk.LagrangianLinearTIR(H)"
   ]
  },
  {
   "cell_type": "markdown",
   "metadata": {},
   "source": [
    "The behavior at impact must be defined. We introduce a restitutive coefficient $e$ such that\n",
    "\n",
    "$$\\textrm{if} \\ y=0, \\ \\dot y(t^+) = -e \\dot y(t^-)$$\n",
    "$t^+$ and $t^-$ being post and pre-impact times.\n",
    " \n",
    "At impact, the unilateral constraint is such that\n",
    "\n",
    "$$0 \\leq y \\perp \\lambda \\geq 0$$\n",
    "which simply states that when the ball is not in contact, the reaction is null and the distance to the ground is positive while when the ball touch the ground, the reaction must be positive.\n",
    "\n",
    "This relation and the pre-post velocity relation are defined with a **NewtonImpactNSL**\n"
   ]
  },
  {
   "cell_type": "code",
   "execution_count": null,
   "metadata": {
    "collapsed": true
   },
   "outputs": [],
   "source": [
    "e = 0.9\n",
    "nonsmooth_law = sk.NewtonImpactNSL(e)"
   ]
  },
  {
   "cell_type": "markdown",
   "metadata": {},
   "source": [
    "A nonsmooth law and a relation define something called **Interaction** in Siconos"
   ]
  },
  {
   "cell_type": "code",
   "execution_count": null,
   "metadata": {
    "collapsed": true
   },
   "outputs": [],
   "source": [
    "interaction = sk.Interaction(nonsmooth_law, relation)"
   ]
  },
  {
   "cell_type": "markdown",
   "metadata": {},
   "source": [
    "Notice that this interaction just describe some relations and laws but is not connected to any real dynamical system, for the moment.\n",
    "  \n",
    "The modeling part is almost complete, since only one dynamical system and one interaction are needed to describe the problem.\n",
    "They must be gathered into a specific object, the **Model**.\n",
    "A model contains a nonsmooth dynamical system and the description of its simulation. The building of this object is quite simple: just set the time window for the simulation, include dynamical systems and link them to the correct interactions.\n",
    "\n",
    "                      NSDS == a set of Dynamical Systems + a set of Interactions\n"
   ]
  },
  {
   "cell_type": "code",
   "execution_count": null,
   "metadata": {
    "collapsed": true
   },
   "outputs": [],
   "source": [
    "# dynamical systems and interactions must be gathered into a nsds, defined on a time interval\n",
    "t0 = 0. # initial time\n",
    "T = 10. # duration of the simulation\n",
    "BouncingBall = sk.NonSmoothDynamicalSystem(t0, T)\n",
    "# 1 - add the dynamical system in the nonsmooth dynamical system of the model\n",
    "BouncingBall.insertDynamicalSystem(ball)\n",
    "# 2 - link the interaction and the dynamical system\n",
    "BouncingBall.link(interaction, ball)"
   ]
  },
  {
   "cell_type": "markdown",
   "metadata": {},
   "source": [
    "# II - Simulation definition\n",
    "\n",
    "It's time to describe how our nonsmooth dynamical system will be discretize, formulate and solve.\n",
    "You need now to define how the nonsmooth dynamical system will be integrated over time. This is the role of the **Simulation**, which must set:\n",
    "\n",
    "* how dynamical systems are discretized and integrate over a time step\n",
    "* how the resulting nonsmooth problem(s) will be formalized and solved\n",
    "\n",
    "Two different strategies are available : event-capturing (a.k.a time stepping) schemes and event-driven schemes. \n",
    "\n",
    "For this example, an event-capturing strategy will be used, with a Moreau-Jean integrator and a LCP (Linear Complementarity Problem) formulation.\n",
    "\n",
    "Let us start with the 'one-step integrator', i.e. the description of the discretisation and integration of the dynamics over a time step, between time $t_i$ and $t_{i+1}$. The integration of the dynamics over the time step is based on a $\\theta$-method, and the time-discretisation leads to:\n",
    "\n",
    "$$\n",
    "\\begin{array}{ccc}\n",
    "    \\dot y_{k+1} &=& Hv^{free}_{k}  +  HM^{-1}H^t\\lambda_{k+1} \\\\\n",
    "    v^{free}_k &=&  v_k + M^{-1}hF_{ext,k+\\theta}\\\\\n",
    "    if \\bar y_{k,\\gamma} \\leq 0 \\ &then& \\ 0 \\leq \\dot y_{k+1} \\perp \\lambda_{k+1} \\geq 0 \n",
    "  \\end{array}\n",
    "$$\n",
    "\n",
    "which turns to be a Linear Complementarity System.\n",
    "\n",
    "The time-discretisation and the LCP are implemented as:"
   ]
  },
  {
   "cell_type": "code",
   "execution_count": null,
   "metadata": {
    "collapsed": true
   },
   "outputs": [],
   "source": [
    "theta = 0.5\n",
    "osi = sk.MoreauJeanOSI(theta)\n",
    "osnspb = sk.LCP()\n",
    "# You can change the LCP solver like this:\n",
    "#osnspb = sk.LCP(sn.SICONOS_LCP_ENUM)\n",
    "#osnspb = sk.LCP(sn.SICONOS_LCP_PGS)\n",
    "#sn.SICONOS_LCP"
   ]
  },
  {
   "cell_type": "markdown",
   "metadata": {},
   "source": [
    "Depending on the chosen formulation, different solvers are available. You can for example change the default (Lemke)\n",
    "for a non-symmetric QP, as below.\n",
    "A complete list of available solvers can be found in documentation (LCP solvers: http://siconos.gforge.inria.fr/users_guide/lcp_solvers.html#lcp-solvers)."
   ]
  },
  {
   "cell_type": "markdown",
   "metadata": {},
   "source": [
    "Then the last step consists in the simulation creation, with its time discretisation"
   ]
  },
  {
   "cell_type": "code",
   "execution_count": null,
   "metadata": {
    "collapsed": true
   },
   "outputs": [],
   "source": [
    "# simulation and time discretisation\n",
    "time_step =  0.005\n",
    "td = sk.TimeDiscretisation(t0, time_step)\n",
    "simu = sk.TimeStepping(BouncingBall, td, osi, osnspb)"
   ]
  },
  {
   "cell_type": "markdown",
   "metadata": {},
   "source": [
    "The model is now complete and ready to run\n",
    "\n",
    "# III -  Running the simulation\n",
    "\n",
    "For the present case, x,y and λ at each time step are needed for postprocessing. Here is an example on how to get and save them in a numpy array"
   ]
  },
  {
   "cell_type": "code",
   "execution_count": null,
   "metadata": {
    "collapsed": true
   },
   "outputs": [],
   "source": [
    "N = int((T - t0) / simu.timeStep()) + 1\n",
    "# numpy array used to save data at each time step, for post-processing\n",
    "data_plot = np.zeros((N, 7))\n",
    "\n",
    "lamb = interaction.lambda_(1)\n",
    "q = ball.q()\n",
    "v = ball.velocity()\n",
    "p = ball.p(1)\n",
    "k = 0\n",
    "# initial state\n",
    "data_plot[k, 0] = t0\n",
    "data_plot[k, 1] = q[0]\n",
    "data_plot[k, 2] = v[0]\n",
    "data_plot[k, 3] = p[0]\n",
    "data_plot[k, 4] = lamb[0]\n",
    "\n",
    "def compute_energy(v, z):\n",
    "    return 0.5 * np.dot(v, np.dot(mass, v)), m * g * z\n",
    "\n",
    "data_plot[k, 5:] = compute_energy(v, q[0])\n",
    "\n",
    "k += 1\n",
    "\n",
    "while simu.hasNextEvent():\n",
    "    simu.computeOneStep() # Build and solve the LCP\n",
    "    data_plot[k, 0] = simu.nextTime()\n",
    "    data_plot[k, 1] = q[0]\n",
    "    data_plot[k, 2] = v[0]\n",
    "    data_plot[k, 3] = p[0]\n",
    "    data_plot[k, 4] = lamb[0]\n",
    "    data_plot[k, 5:] = compute_energy(v, q[0])\n",
    "    k += 1 \n",
    "    simu.nextStep() # Save current state and prepare next step"
   ]
  },
  {
   "cell_type": "markdown",
   "metadata": {},
   "source": [
    "\n",
    "* *hasNextEvent()* is true as long as there are events to be considered, i.e. until T is reached\n",
    "* *nextStep()* is mainly used to increment the time step, save current state and prepare initial values for next step.\n",
    "* *computeOneStep()* performs computation over the current time step. In the Moreau's time stepping case, it will first integrate the dynamics to\n",
    "  obtain the so-called free-state, that is without non-smooth effects, then it will formalize and solve a LCP before re-integrate the dynamics using the LCP results. \n",
    "\n",
    "The results can now be postprocessed, using matplotlib pyplot for example"
   ]
  },
  {
   "cell_type": "markdown",
   "metadata": {},
   "source": [
    "## IV - Post-processing"
   ]
  },
  {
   "cell_type": "code",
   "execution_count": null,
   "metadata": {
    "collapsed": true
   },
   "outputs": [],
   "source": [
    "import matplotlib.pyplot as plt\n",
    "%matplotlib inline  \n",
    "fig_size = [14, 6]\n",
    "plt.rcParams[\"figure.figsize\"] = fig_size\n",
    "time = data_plot[:, 0]\n",
    "#plt.subplot(411)\n",
    "#plt.title('position')\n",
    "plt.plot(time, data_plot[:, 1], label='position')\n",
    "plt.plot(time, data_plot[:, 2], label='velocity')\n",
    "plt.grid()\n",
    "plt.legend()\n",
    "plt.grid()\n"
   ]
  },
  {
   "cell_type": "code",
   "execution_count": null,
   "metadata": {
    "collapsed": true
   },
   "outputs": [],
   "source": [
    "plt.subplot(121)\n",
    "plt.plot(time, data_plot[:, 4])\n",
    "plt.title('reaction impulse')\n",
    "plt.subplot(122)\n",
    "plt.xlim(8,10)\n",
    "plt.ylim(0,0.2)\n",
    "plt.plot(time, data_plot[:, 4])"
   ]
  },
  {
   "cell_type": "code",
   "execution_count": null,
   "metadata": {
    "collapsed": true
   },
   "outputs": [],
   "source": [
    "Ec = data_plot[:, 5]\n",
    "Ep = data_plot[:, 6]\n",
    "plt.plot(time, Ec, label='Ec')\n",
    "plt.plot(time, Ep, label='Ep')\n",
    "plt.plot(time, Ec + Ep, label='Total energy')\n",
    "plt.legend()"
   ]
  },
  {
   "cell_type": "code",
   "execution_count": null,
   "metadata": {
    "collapsed": true
   },
   "outputs": [],
   "source": []
  },
  {
   "cell_type": "code",
   "execution_count": null,
   "metadata": {
    "collapsed": true
   },
   "outputs": [],
   "source": []
  }
 ],
 "metadata": {
  "kernelspec": {
   "display_name": "Python 3",
   "language": "python",
   "name": "python3"
  },
  "language_info": {
   "codemirror_mode": {
    "name": "ipython",
    "version": 3
   },
   "file_extension": ".py",
   "mimetype": "text/x-python",
   "name": "python",
   "nbconvert_exporter": "python",
   "pygments_lexer": "ipython3",
   "version": "3.5.5"
  }
 },
 "nbformat": 4,
 "nbformat_minor": 1
}
