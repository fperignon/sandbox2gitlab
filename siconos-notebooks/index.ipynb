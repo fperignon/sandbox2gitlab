{
 "cells": [
  {
   "cell_type": "markdown",
   "metadata": {},
   "source": [
    "### Siconos online tutorial\n",
    "\n",
    "This page provides some tutorials for Siconos software, an open-source scientific software primarily targeted at modeling and simulating nonsmooth dynamical systems in C++ and in Python.\n",
    "\n",
    "##### See [http://siconos.gforge.inria.fr] for how to obtain and use Siconos Software\n",
    "\n",
    "[A 4 diodes bridge wave rectifier](./tutorials/Tutorial_1_DiodeBridge.ipynb)\n",
    "\n",
    "[A 4 diodes bridge wave rectifier (bis)](./tutorials/Tutorial_2_DiodeBridge.ipynb)\n",
    "\n",
    "\n",
    "[A ball bouncing on the ground, event-capturing scheme](./tutorials/Tutorial_1_DiodeBridge.ipynb)\n",
    "\n",
    "[A ball bouncing on the ground, event-driven scheme](./tutorials/Tutorial_3_BouncingBall-EventDriven.ipynb)\n"
   ]
  },
  {
   "cell_type": "markdown",
   "metadata": {},
   "source": [
    "## Jupyter notebooks reminder\n",
    "\n",
    "A notebook is a sequence of \"cells\" that can be executed.\n",
    "\n",
    "\n",
    "Each cell can handle either python code or markdown for comments.\n",
    "\n",
    "* Edit a cell : Enter\n",
    "* Execute a cell: Shift + Enter\n",
    "* Run all cells : kernel menu (top of the page) --> Run all\n",
    "* Delete cell : DD\n",
    "* Add cell : Ctrl-mb\n",
    "* Shortcuts reminder : Ctrl-m h\n",
    "* List all magic commands : %lsmagic\n",
    "\n",
    "More :  https://jupyter-notebook-beginner-guide.readthedocs.io/en/latest/what_is_jupyter.html#references\n",
    "\n",
    "Warning : cells can be executed in any order but results and variables are persistent (until a call to %reset or kernel->restart)"
   ]
  },
  {
   "cell_type": "code",
   "execution_count": null,
   "metadata": {},
   "outputs": [],
   "source": []
  },
  {
   "cell_type": "code",
   "execution_count": null,
   "metadata": {},
   "outputs": [],
   "source": []
  }
 ],
 "metadata": {
  "kernelspec": {
   "display_name": "Python 3",
   "language": "python",
   "name": "python3"
  },
  "language_info": {
   "codemirror_mode": {
    "name": "ipython",
    "version": 3
   },
   "file_extension": ".py",
   "mimetype": "text/x-python",
   "name": "python",
   "nbconvert_exporter": "python",
   "pygments_lexer": "ipython3",
   "version": "3.6.5"
  }
 },
 "nbformat": 4,
 "nbformat_minor": 1
}
