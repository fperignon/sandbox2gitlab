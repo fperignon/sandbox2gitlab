{
 "cells": [
  {
   "cell_type": "code",
   "execution_count": 97,
   "metadata": {
    "collapsed": true
   },
   "outputs": [],
   "source": [
    "# import siconos package\n",
    "import siconos.kernel as sk\n",
    "# numpy for vectors and matrices\n",
    "import numpy as np"
   ]
  },
  {
   "cell_type": "code",
   "execution_count": 98,
   "metadata": {
    "collapsed": false
   },
   "outputs": [],
   "source": [
    "# dynamical system parameters\n",
    "Lvalue = 1e-2    # inductance\n",
    "Cvalue = 1e-6    # capacitance\n",
    "Rvalue = 1e3     # resistance\n",
    "Vinit = 10.0     # initial voltage\n",
    "x0 = [Vinit, 0.] # initial state\n",
    "# A matrix of the linear oscillator\n",
    "A = np.zeros((2, 2), dtype=np.float64)\n",
    "A.flat[...] = [0., -1.0/Cvalue, 1.0/Lvalue, 0.]"
   ]
  },
  {
   "cell_type": "code",
   "execution_count": 99,
   "metadata": {
    "collapsed": false
   },
   "outputs": [],
   "source": [
    "# build the dynamical system\n",
    "ds = sk.FirstOrderLinearDS(x0, A)"
   ]
  },
  {
   "cell_type": "code",
   "execution_count": 100,
   "metadata": {
    "collapsed": false
   },
   "outputs": [],
   "source": [
    "# --- build an interaction ---\n",
    "interaction_size = 4  # number of constraints\n",
    "\n",
    "# B, C, D matrices of the relation\n",
    "C = [[0.,   0.],\n",
    "     [0,    0.],\n",
    "     [-1.,  0.],\n",
    "     [1.,   0.]]\n",
    "\n",
    "D = [[1./Rvalue, 1./Rvalue, -1.,  0.],\n",
    "     [1./Rvalue, 1./Rvalue,  0., -1.],\n",
    "     [1.,        0.,         0.,  0.],\n",
    "     [0.,        1.,         0.,  0.]]\n",
    "\n",
    "B = [[0.,        0., -1./Cvalue, 1./Cvalue],\n",
    "     [0.,        0.,  0.,        0.       ]]"
   ]
  },
  {
   "cell_type": "code",
   "execution_count": 101,
   "metadata": {
    "collapsed": true
   },
   "outputs": [],
   "source": [
    "relation= sk.FirstOrderLinearTIR(C, B)\n",
    "relation.setDPtr(D)"
   ]
  },
  {
   "cell_type": "code",
   "execution_count": 102,
   "metadata": {
    "collapsed": false
   },
   "outputs": [],
   "source": [
    "nonsmooth_law = sk.ComplementarityConditionNSL(interaction_size)"
   ]
  },
  {
   "cell_type": "code",
   "execution_count": 103,
   "metadata": {
    "collapsed": true
   },
   "outputs": [],
   "source": [
    "interaction = sk.Interaction(nonsmooth_law, relation)"
   ]
  },
  {
   "cell_type": "code",
   "execution_count": 104,
   "metadata": {
    "collapsed": false
   },
   "outputs": [],
   "source": [
    "# dynamical systems and interactions must be gathered into a model\n",
    "t0 = 0. # initial time\n",
    "T = 5.0e-3 # duration of the simulation\n",
    "DiodeBridge = sk.Model(t0, T)\n",
    "# add the dynamical system in the non smooth dynamical system\n",
    "DiodeBridge.nonSmoothDynamicalSystem().insertDynamicalSystem(ds)\n",
    "\n",
    "# link the interaction and the dynamical system\n",
    "DiodeBridge.nonSmoothDynamicalSystem().link(interaction, ds)\n",
    "# --- The modeling part is now complete ---"
   ]
  },
  {
   "cell_type": "code",
   "execution_count": 105,
   "metadata": {
    "collapsed": true
   },
   "outputs": [],
   "source": [
    "# -- Simulation of the nonsmooth dynamical system --\n",
    "# time integration of the dynamics\n",
    "theta = 0.5\n",
    "osi = sk.EulerMoreauOSI(theta)\n",
    "osi.insertDynamicalSystem(ds)"
   ]
  },
  {
   "cell_type": "code",
   "execution_count": 106,
   "metadata": {
    "collapsed": true
   },
   "outputs": [],
   "source": [
    "# nonsmooth problem formulation and solver\n",
    "import siconos.numerics as sn\n",
    "osnspb = sk.LCP(sn.SICONOS_LCP_NSQP)"
   ]
  },
  {
   "cell_type": "code",
   "execution_count": 107,
   "metadata": {
    "collapsed": false
   },
   "outputs": [],
   "source": [
    "# simulation and time discretisation\n",
    "time_step =  1.0e-6\n",
    "td = sk.TimeDiscretisation(t0, time_step)\n",
    "simu = sk.TimeStepping(td, osi, osnspb)"
   ]
  },
  {
   "cell_type": "code",
   "execution_count": 108,
   "metadata": {
    "collapsed": true
   },
   "outputs": [],
   "source": [
    "# initialize model with simulation\n",
    "DiodeBridge.initialize(simu)"
   ]
  },
  {
   "cell_type": "code",
   "execution_count": 109,
   "metadata": {
    "collapsed": false
   },
   "outputs": [],
   "source": [
    "N = int((T - t0) / time_step)\n",
    "data_plot = np.zeros((N + 1, 8))\n",
    "y = interaction.y(0)\n",
    "lamb = interaction.lambda_(0)\n",
    "x = ds.x()\n",
    "k = 0\n",
    "data_plot[k, 1] = x[0] #  inductor voltage\n",
    "data_plot[k, 2] = x[1] # inductor current\n",
    "data_plot[k, 3] = y[0] # diode R1 current\n",
    "data_plot[k, 4] = - lamb[0] # diode R1 voltage\n",
    "data_plot[k, 5] = - lamb[1] # diode F2 voltage \n",
    "data_plot[k, 6] = lamb[2] # diode F1 current\n",
    "data_plot[k, 7] = y[0] + lamb[2] # resistor current\n",
    "while simu.hasNextEvent():\n",
    "    k += 1\n",
    "    simu.computeOneStep()\n",
    "    data_plot[k, 0] = simu.nextTime()\n",
    "    data_plot[k, 1] = x[0]\n",
    "    data_plot[k, 2] = x[1]\n",
    "    data_plot[k, 3] = y[0]\n",
    "    data_plot[k, 4] = - lamb[0]\n",
    "    data_plot[k, 5] = - lamb[1]\n",
    "    data_plot[k, 6] = lamb[2]\n",
    "    data_plot[k, 7] = y[0] + lamb[2]\n",
    "    simu.nextStep()\n"
   ]
  },
  {
   "cell_type": "code",
   "execution_count": 114,
   "metadata": {
    "collapsed": false
   },
   "outputs": [],
   "source": [
    "import matplotlib.pyplot as plt\n",
    "%matplotlib inline"
   ]
  },
  {
   "cell_type": "code",
   "execution_count": 115,
   "metadata": {
    "collapsed": false
   },
   "outputs": [
    {
     "data": {
      "image/png": "[encoded data removed]",
      "text/plain": [
       "<matplotlib.figure.Figure at 0x11276d950>"
      ]
     },
     "metadata": {},
     "output_type": "display_data"
    }
   ],
   "source": [
    "plt.subplot(411)\n",
    "plt.title('inductor voltage')\n",
    "plt.plot(data_plot[0:k - 1, 0], data_plot[0:k - 1, 1])\n",
    "plt.grid()\n",
    "plt.subplot(412)\n",
    "plt.title('inductor current')\n",
    "plt.plot(data_plot[0:k - 1, 0], data_plot[0:k - 1, 2])\n",
    "plt.grid()\n",
    "plt.subplot(413)\n",
    "plt.title('diode R1 (blue) and F2 (green) voltage')\n",
    "plt.plot(data_plot[0:k - 1, 0], -data_plot[0:k - 1, 4])\n",
    "plt.plot(data_plot[0:k - 1, 0], data_plot[0:k - 1, 5])\n",
    "plt.grid()\n",
    "plt.subplot(414)\n",
    "plt.title('resistor current')\n",
    "plt.plot(data_plot[0:k - 1, 0], data_plot[0:k - 1, 7])\n",
    "plt.grid()"
   ]
  },
  {
   "cell_type": "code",
   "execution_count": 96,
   "metadata": {
    "collapsed": false
   },
   "outputs": [
    {
     "data": {
      "text/plain": [
       "5000"
      ]
     },
     "execution_count": 96,
     "metadata": {},
     "output_type": "execute_result"
    }
   ],
   "source": [
    "N"
   ]
  },
  {
   "cell_type": "code",
   "execution_count": null,
   "metadata": {
    "collapsed": true
   },
   "outputs": [],
   "source": []
  }
 ],
 "metadata": {
  "kernelspec": {
   "display_name": "Python 2",
   "language": "python",
   "name": "python2"
  },
  "language_info": {
   "codemirror_mode": {
    "name": "ipython",
    "version": 2
   },
   "file_extension": ".py",
   "mimetype": "text/x-python",
   "name": "python",
   "nbconvert_exporter": "python",
   "pygments_lexer": "ipython2",
   "version": "2.7.10"
  }
 },
 "nbformat": 4,
 "nbformat_minor": 0
}
